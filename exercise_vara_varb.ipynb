{
 "cells": [
  {
   "cell_type": "markdown",
   "metadata": {},
   "source": [
    "# Exercise\n",
    "\n",
    "Assume that two variables, varA and varB, are assigned values, either numbers or strings.\n",
    "\n",
    "Write a piece of Python code that evaluates varA and varB, and then prints out one of the following messages:\n",
    "\n",
    "`string involved` if either varA or varB are strings\n",
    "\n",
    "`bigger` if varA is larger than varB\n",
    "\n",
    "`equal` if varA is equal to varB\n",
    "\n",
    "`smaller` if varA is smaller than varB\n",
    "\n",
    "This gem is coming from course online at `https://courses.edx.org/courses/course-v1:MITx+6.00.1x+2T2018/courseware/fc8f42302c644118adfcfa720f9f403e/35f82f6c3ecb4e9e913dc279a9b73a9f/?child=first`"
   ]
  },
  {
   "cell_type": "markdown",
   "metadata": {},
   "source": [
    "## Comparing using length (only worls with varB == str"
   ]
  },
  {
   "cell_type": "code",
   "execution_count": 10,
   "metadata": {},
   "outputs": [
    {
     "name": "stdout",
     "output_type": "stream",
     "text": [
      "string involved\n",
      "smaller\n"
     ]
    }
   ],
   "source": [
    "'''\n",
    "2. Is there other way to compare str and int/float?\n",
    "\n",
    "3. At this case it seems that transforming int to str with varA = str(varA) is the only way. I bet there are \n",
    "others ways. But by doing this the negative int do not fit \n",
    "'''\n",
    "varA = -1\n",
    "varB = 'hola'\n",
    "\n",
    "if ((type(varA) == str) or (type(varB) == str)):\n",
    "    print('string involved')\n",
    "\n",
    "if type(varA) != str:\n",
    "    varA = str(varA)\n",
    "    if len(varA) > len(varB):\n",
    "        print('bigger')\n",
    "else:\n",
    "    varB = str(varB)\n",
    "    if len(varA) > len(varB):\n",
    "        print('bigger')\n",
    "        \n",
    "if type(varA) != str:\n",
    "    varA = str(varA)\n",
    "    if varA == varB:\n",
    "        print('equal')\n",
    "elif type(varB) != str:\n",
    "    varB = str(varB)\n",
    "    if varA == varB:\n",
    "        print('equal')\n",
    "elif varA < varB:\n",
    "    print(\"smaller\")"
   ]
  },
  {
   "cell_type": "markdown",
   "metadata": {},
   "source": [
    "# Other functions that I discovered during this exercise \n",
    "\n",
    "1. There is a build-in function called `isinstance(varA, str)` that might help with the bool comparation. \n",
    "Have you use it?\n",
    "\n",
    "2. Another build-in funtion that I tried was `ord()` but only works with strings. "
   ]
  },
  {
   "cell_type": "code",
   "execution_count": 4,
   "metadata": {},
   "outputs": [
    {
     "data": {
      "text/plain": [
       "True"
      ]
     },
     "execution_count": 4,
     "metadata": {},
     "output_type": "execute_result"
    }
   ],
   "source": [
    "varA = 1\n",
    "varA = str(varA)\n",
    "varB = '1'\n",
    "varA == varB"
   ]
  },
  {
   "cell_type": "markdown",
   "metadata": {},
   "source": [
    "# Short version of the code that test int and str in both variable"
   ]
  },
  {
   "cell_type": "code",
   "execution_count": 12,
   "metadata": {},
   "outputs": [
    {
     "name": "stdout",
     "output_type": "stream",
     "text": [
      "bigger\n"
     ]
    }
   ],
   "source": [
    "varA = 123\n",
    "varB = -1\n",
    "\n",
    "if ((type(varA) == str) or (type(varB) == str)):\n",
    "    print('string involved')\n",
    "    if (type(varA) == str) and (type(varB) == str):\n",
    "        if varA > varB:\n",
    "            print(\"bigger\")\n",
    "        elif varA == varB:\n",
    "            print(\"equal\")\n",
    "        else:\n",
    "            print(\"smaller\")\n",
    "\n",
    "if (type(varA) == int) and (type(varB) == int):\n",
    "    if varA > varB:\n",
    "        print(\"bigger\")\n",
    "    elif varA == varB:\n",
    "        print(\"equal\")\n",
    "    else:\n",
    "        print(\"smaller\")"
   ]
  },
  {
   "cell_type": "code",
   "execution_count": null,
   "metadata": {},
   "outputs": [],
   "source": []
  }
 ],
 "metadata": {
  "kernelspec": {
   "display_name": "Python 3",
   "language": "python",
   "name": "python3"
  },
  "language_info": {
   "codemirror_mode": {
    "name": "ipython",
    "version": 3
   },
   "file_extension": ".py",
   "mimetype": "text/x-python",
   "name": "python",
   "nbconvert_exporter": "python",
   "pygments_lexer": "ipython3",
   "version": "3.6.5"
  }
 },
 "nbformat": 4,
 "nbformat_minor": 2
}
